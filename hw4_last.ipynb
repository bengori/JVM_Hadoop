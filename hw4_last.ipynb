{
 "cells": [
  {
   "cell_type": "code",
   "execution_count": 1,
   "id": "f8016bf7",
   "metadata": {},
   "outputs": [
    {
     "name": "stderr",
     "output_type": "stream",
     "text": [
      "WARNING: An illegal reflective access operation has occurred\n",
      "WARNING: Illegal reflective access by org.apache.spark.unsafe.Platform (file:/usr/local/spark-3.1.2-bin-hadoop3.2/jars/spark-unsafe_2.12-3.1.2.jar) to constructor java.nio.DirectByteBuffer(long,int)\n",
      "WARNING: Please consider reporting this to the maintainers of org.apache.spark.unsafe.Platform\n",
      "WARNING: Use --illegal-access=warn to enable warnings of further illegal reflective access operations\n",
      "WARNING: All illegal access operations will be denied in a future release\n",
      "21/09/08 21:06:16 WARN NativeCodeLoader: Unable to load native-hadoop library for your platform... using builtin-java classes where applicable\n",
      "Using Spark's default log4j profile: org/apache/spark/log4j-defaults.properties\n",
      "Setting default log level to \"WARN\".\n",
      "To adjust logging level use sc.setLogLevel(newLevel). For SparkR, use setLogLevel(newLevel).\n"
     ]
    }
   ],
   "source": [
    "from pyspark.sql import SparkSession\n",
    "spark = SparkSession.builder\\\n",
    "    .master(\"local[2]\")\\\n",
    "    .appName(\"Lesson_4\")\\\n",
    "    .config(\"spark.executor.instances\",2)\\\n",
    "    .config(\"spark.executor.memory\",'2g')\\\n",
    "    .config(\"spark.executor.cores\",1)\\\n",
    "    .getOrCreate()\n",
    "sc = spark.sparkContext"
   ]
  },
  {
   "cell_type": "code",
   "execution_count": 2,
   "id": "7765152c",
   "metadata": {},
   "outputs": [],
   "source": [
    "%matplotlib inline\n",
    "%config InlineBackend.figure_format = 'svg'\n",
    "\n",
    "from pyspark.ml import Pipeline\n",
    "from pyspark.ml.classification import LogisticRegression, LogisticRegressionModel\n",
    "from pyspark.ml.feature import HashingTF, Tokenizer, Normalizer, VectorAssembler, StringIndexer, MinMaxScaler, VectorIndexer, OneHotEncoder\n",
    "from pyspark.ml.stat import Correlation\n",
    "from pyspark.ml.linalg import SparseVector, DenseVector\n",
    "from pyspark.ml.evaluation import RegressionEvaluator, BinaryClassificationEvaluator\n",
    "from pyspark.ml.tuning import CrossValidator, ParamGridBuilder\n",
    "from pyspark.sql import functions as F\n",
    "from pyspark.sql.types import *\n",
    "from pyspark.sql import Window\n",
    "import matplotlib.pyplot as plt"
   ]
  },
  {
   "cell_type": "markdown",
   "id": "13a0891f",
   "metadata": {},
   "source": [
    "# Данные:\n",
    "[скачать](https://drive.google.com/file/d/1MuAyZiIm3b_r-AgQSj78tsRPqZpvv_2s/view?usp=sharing)\n",
    "\n",
    "**application_record.csv**\n",
    "*   Feature name\tExplanation\tRemarks\n",
    "*   ID\tClient number\t\n",
    "*   CODE_GENDER\tGender\t\n",
    "*   FLAG_OWN_CAR\tIs there a car\t\n",
    "*   FLAG_OWN_REALTY\tIs there a property\t\n",
    "*   CNT_CHILDREN\tNumber of children\t\n",
    "*   AMT_INCOME_TOTAL\tAnnual income\t\n",
    "*   NAME_INCOME_TYPE\tIncome category\t\n",
    "*   NAME_EDUCATION_TYPE\tEducation level\t\n",
    "*   NAME_FAMILY_STATUS\tMarital status\t\n",
    "*   NAME_HOUSING_TYPE\tWay of living\t\n",
    "*   DAYS_BIRTH\tBirthday\tCount backwards from current day (0), -1 means yesterday\n",
    "*   DAYS_EMPLOYED\tStart date of employment\tCount backwards from current day(0). If positive, it means the person currently unemployed.\n",
    "FLAG_MOBIL\tIs there a mobile phone\t\n",
    "*   FLAG_WORK_PHONE\tIs there a work phone\t\n",
    "*   FLAG_PHONE\tIs there a phone\t\n",
    "*   FLAG_EMAIL\tIs there an email\t\n",
    "*   OCCUPATION_TYPE\tOccupation\t\n",
    "*   CNT_FAM_MEMBERS\tFamily size\t\n",
    "\n",
    "**credit_record.csv**\n",
    "*   Feature name\tExplanation\tRemarks\n",
    "*   ID\tClient number\t\n",
    "*   MONTHS_BALANCE\tRecord month\tThe month of the extracted data is the starting point, backwards, 0 is the current month, -1 is the previous month, and so on\n",
    "*   STATUS\tStatus\t\n",
    "   *   0: 1-29 days past due\n",
    "   *   1: 30-59 days past due \n",
    "   *   2: 60-89 days overdue \n",
    "   *   3: 90-119 days overdue \n",
    "   *   4: 120-149 days overdue \n",
    "    *   5: Overdue or bad debts, write-offs for more than 150 days\n",
    "    *   C: paid off that month X: No loan for the month"
   ]
  },
  {
   "cell_type": "code",
   "execution_count": 3,
   "id": "b84cecb1",
   "metadata": {},
   "outputs": [
    {
     "name": "stderr",
     "output_type": "stream",
     "text": [
      "                                                                                \r"
     ]
    },
    {
     "name": "stdout",
     "output_type": "stream",
     "text": [
      "root\n",
      " |-- ID: integer (nullable = true)\n",
      " |-- CODE_GENDER: string (nullable = true)\n",
      " |-- FLAG_OWN_CAR: string (nullable = true)\n",
      " |-- FLAG_OWN_REALTY: string (nullable = true)\n",
      " |-- CNT_CHILDREN: integer (nullable = true)\n",
      " |-- AMT_INCOME_TOTAL: double (nullable = true)\n",
      " |-- NAME_INCOME_TYPE: string (nullable = true)\n",
      " |-- NAME_EDUCATION_TYPE: string (nullable = true)\n",
      " |-- NAME_FAMILY_STATUS: string (nullable = true)\n",
      " |-- NAME_HOUSING_TYPE: string (nullable = true)\n",
      " |-- DAYS_BIRTH: integer (nullable = true)\n",
      " |-- DAYS_EMPLOYED: integer (nullable = true)\n",
      " |-- FLAG_MOBIL: integer (nullable = true)\n",
      " |-- FLAG_WORK_PHONE: integer (nullable = true)\n",
      " |-- FLAG_PHONE: integer (nullable = true)\n",
      " |-- FLAG_EMAIL: integer (nullable = true)\n",
      " |-- OCCUPATION_TYPE: string (nullable = true)\n",
      " |-- CNT_FAM_MEMBERS: double (nullable = true)\n",
      "\n"
     ]
    },
    {
     "data": {
      "text/plain": [
       "438557"
      ]
     },
     "execution_count": 3,
     "metadata": {},
     "output_type": "execute_result"
    }
   ],
   "source": [
    "# Ниже, мы для тех, у кого хоть раз были просрчоки больше 60 дней, ставим в таргет 1.\n",
    "data = spark.read.csv('application_record.csv', encoding = 'utf-8', header=True, inferSchema=True, sep=',')\n",
    "record = spark.read.csv('credit_record.csv', encoding = 'utf-8', header=True, inferSchema=True, sep=',')\n",
    "data.printSchema()\n",
    "data.count()"
   ]
  },
  {
   "cell_type": "code",
   "execution_count": 4,
   "id": "701c0bc4",
   "metadata": {},
   "outputs": [
    {
     "name": "stdout",
     "output_type": "stream",
     "text": [
      "root\n",
      " |-- ID: integer (nullable = true)\n",
      " |-- MONTHS_BALANCE: integer (nullable = true)\n",
      " |-- STATUS: string (nullable = true)\n",
      "\n"
     ]
    },
    {
     "name": "stderr",
     "output_type": "stream",
     "text": [
      "                                                                                \r"
     ]
    },
    {
     "data": {
      "text/plain": [
       "1048575"
      ]
     },
     "execution_count": 4,
     "metadata": {},
     "output_type": "execute_result"
    }
   ],
   "source": [
    "record.printSchema()\n",
    "record.count()"
   ]
  },
  {
   "cell_type": "code",
   "execution_count": 5,
   "id": "57e218a0",
   "metadata": {},
   "outputs": [
    {
     "name": "stdout",
     "output_type": "stream",
     "text": [
      "root\n",
      " |-- ID: integer (nullable = true)\n",
      " |-- begin_month: integer (nullable = true)\n",
      "\n"
     ]
    },
    {
     "name": "stderr",
     "output_type": "stream",
     "text": [
      "                                                                                \r"
     ]
    },
    {
     "name": "stdout",
     "output_type": "stream",
     "text": [
      "+-------+-----------+\n",
      "|     ID|begin_month|\n",
      "+-------+-----------+\n",
      "|5001812|         22|\n",
      "|5001849|          8|\n",
      "|5001921|         19|\n",
      "|5003338|         33|\n",
      "|5003386|          7|\n",
      "+-------+-----------+\n",
      "only showing top 5 rows\n",
      "\n"
     ]
    },
    {
     "name": "stderr",
     "output_type": "stream",
     "text": [
      "                                                                                \r"
     ]
    },
    {
     "data": {
      "text/plain": [
       "45985"
      ]
     },
     "execution_count": 5,
     "metadata": {},
     "output_type": "execute_result"
    }
   ],
   "source": [
    "# Добавляем срок кредита к параметрам выдачи кредита\n",
    "begin_month  = record.groupBy('ID').agg((F.min('MONTHS_BALANCE')*(-1)).alias('begin_month'))\n",
    "begin_month.printSchema()\n",
    "begin_month.show(5)\n",
    "begin_month.count()"
   ]
  },
  {
   "cell_type": "code",
   "execution_count": 6,
   "id": "28579b9a",
   "metadata": {},
   "outputs": [
    {
     "name": "stdout",
     "output_type": "stream",
     "text": [
      "root\n",
      " |-- ID: integer (nullable = true)\n",
      " |-- CODE_GENDER: string (nullable = true)\n",
      " |-- FLAG_OWN_CAR: string (nullable = true)\n",
      " |-- FLAG_OWN_REALTY: string (nullable = true)\n",
      " |-- CNT_CHILDREN: integer (nullable = true)\n",
      " |-- AMT_INCOME_TOTAL: double (nullable = true)\n",
      " |-- NAME_INCOME_TYPE: string (nullable = true)\n",
      " |-- NAME_EDUCATION_TYPE: string (nullable = true)\n",
      " |-- NAME_FAMILY_STATUS: string (nullable = true)\n",
      " |-- NAME_HOUSING_TYPE: string (nullable = true)\n",
      " |-- DAYS_BIRTH: integer (nullable = true)\n",
      " |-- DAYS_EMPLOYED: integer (nullable = true)\n",
      " |-- FLAG_MOBIL: integer (nullable = true)\n",
      " |-- FLAG_WORK_PHONE: integer (nullable = true)\n",
      " |-- FLAG_PHONE: integer (nullable = true)\n",
      " |-- FLAG_EMAIL: integer (nullable = true)\n",
      " |-- OCCUPATION_TYPE: string (nullable = true)\n",
      " |-- CNT_FAM_MEMBERS: double (nullable = true)\n",
      " |-- begin_month: integer (nullable = true)\n",
      "\n"
     ]
    },
    {
     "name": "stderr",
     "output_type": "stream",
     "text": [
      "                                                                                \r"
     ]
    },
    {
     "name": "stdout",
     "output_type": "stream",
     "text": [
      "+-------+-----------+------------+---------------+------------+----------------+--------------------+--------------------+--------------------+-----------------+----------+-------------+----------+---------------+----------+----------+---------------+---------------+-----------+\n",
      "|     ID|CODE_GENDER|FLAG_OWN_CAR|FLAG_OWN_REALTY|CNT_CHILDREN|AMT_INCOME_TOTAL|    NAME_INCOME_TYPE| NAME_EDUCATION_TYPE|  NAME_FAMILY_STATUS|NAME_HOUSING_TYPE|DAYS_BIRTH|DAYS_EMPLOYED|FLAG_MOBIL|FLAG_WORK_PHONE|FLAG_PHONE|FLAG_EMAIL|OCCUPATION_TYPE|CNT_FAM_MEMBERS|begin_month|\n",
      "+-------+-----------+------------+---------------+------------+----------------+--------------------+--------------------+--------------------+-----------------+----------+-------------+----------+---------------+----------+----------+---------------+---------------+-----------+\n",
      "|5008804|          M|           Y|              Y|           0|        427500.0|             Working|    Higher education|      Civil marriage| Rented apartment|    -12005|        -4542|         1|              1|         0|         0|           null|            2.0|         15|\n",
      "|5008805|          M|           Y|              Y|           0|        427500.0|             Working|    Higher education|      Civil marriage| Rented apartment|    -12005|        -4542|         1|              1|         0|         0|           null|            2.0|         14|\n",
      "|5008806|          M|           Y|              Y|           0|        112500.0|             Working|Secondary / secon...|             Married|House / apartment|    -21474|        -1134|         1|              0|         0|         0| Security staff|            2.0|         29|\n",
      "|5008808|          F|           N|              Y|           0|        270000.0|Commercial associate|Secondary / secon...|Single / not married|House / apartment|    -19110|        -3051|         1|              0|         1|         1|    Sales staff|            1.0|          4|\n",
      "|5008809|          F|           N|              Y|           0|        270000.0|Commercial associate|Secondary / secon...|Single / not married|House / apartment|    -19110|        -3051|         1|              0|         1|         1|    Sales staff|            1.0|         26|\n",
      "|5008810|          F|           N|              Y|           0|        270000.0|Commercial associate|Secondary / secon...|Single / not married|House / apartment|    -19110|        -3051|         1|              0|         1|         1|    Sales staff|            1.0|         26|\n",
      "|5008811|          F|           N|              Y|           0|        270000.0|Commercial associate|Secondary / secon...|Single / not married|House / apartment|    -19110|        -3051|         1|              0|         1|         1|    Sales staff|            1.0|         38|\n",
      "|5008812|          F|           N|              Y|           0|        283500.0|           Pensioner|    Higher education|           Separated|House / apartment|    -22464|       365243|         1|              0|         0|         0|           null|            1.0|         20|\n",
      "|5008813|          F|           N|              Y|           0|        283500.0|           Pensioner|    Higher education|           Separated|House / apartment|    -22464|       365243|         1|              0|         0|         0|           null|            1.0|         16|\n",
      "|5008814|          F|           N|              Y|           0|        283500.0|           Pensioner|    Higher education|           Separated|House / apartment|    -22464|       365243|         1|              0|         0|         0|           null|            1.0|         17|\n",
      "|5008815|          M|           Y|              Y|           0|        270000.0|             Working|    Higher education|             Married|House / apartment|    -16872|         -769|         1|              1|         1|         1|    Accountants|            2.0|          5|\n",
      "|5112956|          M|           Y|              Y|           0|        270000.0|             Working|    Higher education|             Married|House / apartment|    -16872|         -769|         1|              1|         1|         1|    Accountants|            2.0|         42|\n",
      "|6153651|          M|           Y|              Y|           0|        270000.0|             Working|    Higher education|             Married|House / apartment|    -16872|         -769|         1|              1|         1|         1|    Accountants|            2.0|       null|\n",
      "|5008819|          M|           Y|              Y|           0|        135000.0|Commercial associate|Secondary / secon...|             Married|House / apartment|    -17778|        -1194|         1|              0|         0|         0|       Laborers|            2.0|         17|\n",
      "|5008820|          M|           Y|              Y|           0|        135000.0|Commercial associate|Secondary / secon...|             Married|House / apartment|    -17778|        -1194|         1|              0|         0|         0|       Laborers|            2.0|         16|\n",
      "|5008821|          M|           Y|              Y|           0|        135000.0|Commercial associate|Secondary / secon...|             Married|House / apartment|    -17778|        -1194|         1|              0|         0|         0|       Laborers|            2.0|          8|\n",
      "|5008822|          M|           Y|              Y|           0|        135000.0|Commercial associate|Secondary / secon...|             Married|House / apartment|    -17778|        -1194|         1|              0|         0|         0|       Laborers|            2.0|         22|\n",
      "|5008823|          M|           Y|              Y|           0|        135000.0|Commercial associate|Secondary / secon...|             Married|House / apartment|    -17778|        -1194|         1|              0|         0|         0|       Laborers|            2.0|          7|\n",
      "|5008824|          M|           Y|              Y|           0|        135000.0|Commercial associate|Secondary / secon...|             Married|House / apartment|    -17778|        -1194|         1|              0|         0|         0|       Laborers|            2.0|          3|\n",
      "|5008825|          F|           Y|              N|           0|        130500.0|             Working|   Incomplete higher|             Married|House / apartment|    -10669|        -1103|         1|              0|         0|         0|    Accountants|            2.0|         25|\n",
      "+-------+-----------+------------+---------------+------------+----------------+--------------------+--------------------+--------------------+-----------------+----------+-------------+----------+---------------+----------+----------+---------------+---------------+-----------+\n",
      "only showing top 20 rows\n",
      "\n"
     ]
    },
    {
     "name": "stderr",
     "output_type": "stream",
     "text": [
      "                                                                                \r"
     ]
    },
    {
     "data": {
      "text/plain": [
       "438557"
      ]
     },
     "execution_count": 6,
     "metadata": {},
     "output_type": "execute_result"
    }
   ],
   "source": [
    "new_data = data.join(begin_month, on= 'ID', how = 'left')\\\n",
    "                .select('*')\n",
    "new_data.printSchema()\n",
    "new_data.show()\n",
    "new_data.count()"
   ]
  },
  {
   "cell_type": "code",
   "execution_count": 7,
   "id": "0f9e3586",
   "metadata": {},
   "outputs": [
    {
     "name": "stdout",
     "output_type": "stream",
     "text": [
      "root\n",
      " |-- ID: integer (nullable = true)\n",
      " |-- MONTHS_BALANCE: integer (nullable = true)\n",
      " |-- STATUS: string (nullable = true)\n",
      " |-- dep_value: integer (nullable = true)\n",
      "\n"
     ]
    },
    {
     "name": "stderr",
     "output_type": "stream",
     "text": [
      "[Stage 20:>                                                         (0 + 1) / 1]\r"
     ]
    },
    {
     "name": "stdout",
     "output_type": "stream",
     "text": [
      "+-------+--------------+------+---------+\n",
      "|     ID|MONTHS_BALANCE|STATUS|dep_value|\n",
      "+-------+--------------+------+---------+\n",
      "|5001711|             0|     X|        0|\n",
      "|5001711|            -1|     0|        0|\n",
      "|5001711|            -2|     0|        0|\n",
      "|5001711|            -3|     0|        0|\n",
      "|5001712|             0|     C|        0|\n",
      "|5001712|            -1|     C|        0|\n",
      "|5001712|            -2|     C|        0|\n",
      "|5001712|            -3|     C|        0|\n",
      "|5001712|            -4|     C|        0|\n",
      "|5001712|            -5|     C|        0|\n",
      "|5001712|            -6|     C|        0|\n",
      "|5001712|            -7|     C|        0|\n",
      "|5001712|            -8|     C|        0|\n",
      "|5001712|            -9|     0|        0|\n",
      "|5001712|           -10|     0|        0|\n",
      "|5001712|           -11|     0|        0|\n",
      "|5001712|           -12|     0|        0|\n",
      "|5001712|           -13|     0|        0|\n",
      "|5001712|           -14|     0|        0|\n",
      "|5001712|           -15|     0|        0|\n",
      "+-------+--------------+------+---------+\n",
      "only showing top 20 rows\n",
      "\n"
     ]
    },
    {
     "name": "stderr",
     "output_type": "stream",
     "text": [
      "Traceback (most recent call last):                                              \n",
      "  File \"/usr/local/spark/python/lib/pyspark.zip/pyspark/daemon.py\", line 186, in manager\n",
      "  File \"/usr/local/spark/python/lib/pyspark.zip/pyspark/daemon.py\", line 74, in worker\n",
      "  File \"/usr/local/spark/python/lib/pyspark.zip/pyspark/worker.py\", line 643, in main\n",
      "    if read_int(infile) == SpecialLengths.END_OF_STREAM:\n",
      "  File \"/usr/local/spark/python/lib/pyspark.zip/pyspark/serializers.py\", line 564, in read_int\n",
      "    raise EOFError\n",
      "EOFError\n"
     ]
    }
   ],
   "source": [
    "# Добавляем есть ли просрочка к параметрам выдачи кредита\n",
    "# # Больше 60, то это просрочка, ставим - Yes, если просрочка есть за срок кредита,то так же ставим Yes\n",
    "# record['dep_value'] = None\n",
    "# record['dep_value'][record['STATUS'] == '2'] = 'Yes'\n",
    "# record['dep_value'][record['STATUS'] == '3'] = 'Yes'\n",
    "# record['dep_value'][record['STATUS'] == '4'] = 'Yes'\n",
    "# record['dep_value'][record['STATUS'] == '5'] = 'Yes'\n",
    "# cpunt = record.groupby('ID').count()\n",
    "# cpunt['dep_value'][cpunt['dep_value'] > 0] = 'Yes' \n",
    "# cpunt['dep_value'][cpunt['dep_value'] == 0] = 'No'\n",
    "\n",
    "@F.udf(IntegerType())\n",
    "def dep_value(value): # функция есть или нет просрочка, на выходе \"yes\" или \"no\" \n",
    "    if value == '2' or value == '3' or value == '4' or value == '5':\n",
    "        res = 1\n",
    "    elif  value == '0' or value == '1' or value == 'C' or value == 'X':\n",
    "         res = 0\n",
    "    return res\n",
    "\n",
    "record = record.withColumn('dep_value', dep_value(F.col('STATUS')).cast(IntegerType()))\n",
    "record.printSchema()\n",
    "record.show()"
   ]
  },
  {
   "cell_type": "code",
   "execution_count": 8,
   "id": "f9d4257f",
   "metadata": {},
   "outputs": [
    {
     "name": "stdout",
     "output_type": "stream",
     "text": [
      "root\n",
      " |-- ID: integer (nullable = true)\n",
      " |-- dep_value: long (nullable = true)\n",
      "\n"
     ]
    },
    {
     "name": "stderr",
     "output_type": "stream",
     "text": [
      "[Stage 21:=============================>                            (1 + 1) / 2]\r"
     ]
    },
    {
     "name": "stdout",
     "output_type": "stream",
     "text": [
      "+-------+---------+\n",
      "|     ID|dep_value|\n",
      "+-------+---------+\n",
      "|5001812|        0|\n",
      "|5001849|        0|\n",
      "|5001921|        0|\n",
      "|5003338|        0|\n",
      "|5003386|        0|\n",
      "+-------+---------+\n",
      "only showing top 5 rows\n",
      "\n"
     ]
    },
    {
     "name": "stderr",
     "output_type": "stream",
     "text": [
      "                                                                                \r"
     ]
    }
   ],
   "source": [
    "cpunt = record.groupBy('ID').agg((F.sum('dep_value')).alias('dep_value'))\n",
    "cpunt.printSchema()\n",
    "cpunt.show(5)"
   ]
  },
  {
   "cell_type": "code",
   "execution_count": 9,
   "id": "6be3c1ba",
   "metadata": {},
   "outputs": [],
   "source": [
    "@F.udf(IntegerType())\n",
    "def dep_value2(value): # функция есть или нет просрочка, на выходе \"yes\" или \"no\" \n",
    "    if value > 0:\n",
    "        res = 1\n",
    "    elif  value == 0:\n",
    "         res = 0\n",
    "    return res\n",
    "cpunt = cpunt.withColumn('target', dep_value2(F.col('dep_value')).cast(IntegerType()))"
   ]
  },
  {
   "cell_type": "code",
   "execution_count": 10,
   "id": "770ba3d9",
   "metadata": {},
   "outputs": [
    {
     "name": "stdout",
     "output_type": "stream",
     "text": [
      "root\n",
      " |-- ID: integer (nullable = true)\n",
      " |-- target: integer (nullable = true)\n",
      "\n"
     ]
    },
    {
     "name": "stderr",
     "output_type": "stream",
     "text": [
      "[Stage 23:=============================>                            (1 + 1) / 2]\r"
     ]
    },
    {
     "name": "stdout",
     "output_type": "stream",
     "text": [
      "+-------+------+\n",
      "|     ID|target|\n",
      "+-------+------+\n",
      "|5023641|     1|\n",
      "|5116036|     1|\n",
      "|5116679|     1|\n",
      "|5146444|     1|\n",
      "|5021383|     1|\n",
      "+-------+------+\n",
      "only showing top 5 rows\n",
      "\n"
     ]
    },
    {
     "name": "stderr",
     "output_type": "stream",
     "text": [
      "                                                                                \r"
     ]
    }
   ],
   "source": [
    "cpunt = cpunt.select('ID','target')\n",
    "cpunt.printSchema()\n",
    "cpunt.where(F.col('target') == 1).show(5)"
   ]
  },
  {
   "cell_type": "code",
   "execution_count": 11,
   "id": "c6c45427",
   "metadata": {},
   "outputs": [
    {
     "name": "stderr",
     "output_type": "stream",
     "text": [
      "                                                                                \r"
     ]
    },
    {
     "data": {
      "text/plain": [
       "45985"
      ]
     },
     "execution_count": 11,
     "metadata": {},
     "output_type": "execute_result"
    }
   ],
   "source": [
    "cpunt.count()"
   ]
  },
  {
   "cell_type": "code",
   "execution_count": 12,
   "id": "676efa49",
   "metadata": {},
   "outputs": [
    {
     "name": "stdout",
     "output_type": "stream",
     "text": [
      "root\n",
      " |-- ID: integer (nullable = true)\n",
      " |-- CODE_GENDER: string (nullable = true)\n",
      " |-- FLAG_OWN_CAR: string (nullable = true)\n",
      " |-- FLAG_OWN_REALTY: string (nullable = true)\n",
      " |-- CNT_CHILDREN: integer (nullable = true)\n",
      " |-- AMT_INCOME_TOTAL: double (nullable = true)\n",
      " |-- NAME_INCOME_TYPE: string (nullable = true)\n",
      " |-- NAME_EDUCATION_TYPE: string (nullable = true)\n",
      " |-- NAME_FAMILY_STATUS: string (nullable = true)\n",
      " |-- NAME_HOUSING_TYPE: string (nullable = true)\n",
      " |-- DAYS_BIRTH: integer (nullable = true)\n",
      " |-- DAYS_EMPLOYED: integer (nullable = true)\n",
      " |-- FLAG_MOBIL: integer (nullable = true)\n",
      " |-- FLAG_WORK_PHONE: integer (nullable = true)\n",
      " |-- FLAG_PHONE: integer (nullable = true)\n",
      " |-- FLAG_EMAIL: integer (nullable = true)\n",
      " |-- OCCUPATION_TYPE: string (nullable = true)\n",
      " |-- CNT_FAM_MEMBERS: double (nullable = true)\n",
      " |-- begin_month: integer (nullable = true)\n",
      " |-- target: integer (nullable = true)\n",
      "\n"
     ]
    },
    {
     "name": "stderr",
     "output_type": "stream",
     "text": [
      "                                                                                \r"
     ]
    },
    {
     "name": "stdout",
     "output_type": "stream",
     "text": [
      "+-------+-----------+------------+---------------+------------+----------------+--------------------+--------------------+--------------------+-----------------+----------+-------------+----------+---------------+----------+----------+---------------+---------------+-----------+------+\n",
      "|     ID|CODE_GENDER|FLAG_OWN_CAR|FLAG_OWN_REALTY|CNT_CHILDREN|AMT_INCOME_TOTAL|    NAME_INCOME_TYPE| NAME_EDUCATION_TYPE|  NAME_FAMILY_STATUS|NAME_HOUSING_TYPE|DAYS_BIRTH|DAYS_EMPLOYED|FLAG_MOBIL|FLAG_WORK_PHONE|FLAG_PHONE|FLAG_EMAIL|OCCUPATION_TYPE|CNT_FAM_MEMBERS|begin_month|target|\n",
      "+-------+-----------+------------+---------------+------------+----------------+--------------------+--------------------+--------------------+-----------------+----------+-------------+----------+---------------+----------+----------+---------------+---------------+-----------+------+\n",
      "|5008804|          M|           Y|              Y|           0|        427500.0|             Working|    Higher education|      Civil marriage| Rented apartment|    -12005|        -4542|         1|              1|         0|         0|           null|            2.0|         15|     0|\n",
      "|5008805|          M|           Y|              Y|           0|        427500.0|             Working|    Higher education|      Civil marriage| Rented apartment|    -12005|        -4542|         1|              1|         0|         0|           null|            2.0|         14|     0|\n",
      "|5008806|          M|           Y|              Y|           0|        112500.0|             Working|Secondary / secon...|             Married|House / apartment|    -21474|        -1134|         1|              0|         0|         0| Security staff|            2.0|         29|     0|\n",
      "|5008808|          F|           N|              Y|           0|        270000.0|Commercial associate|Secondary / secon...|Single / not married|House / apartment|    -19110|        -3051|         1|              0|         1|         1|    Sales staff|            1.0|          4|     0|\n",
      "|5008809|          F|           N|              Y|           0|        270000.0|Commercial associate|Secondary / secon...|Single / not married|House / apartment|    -19110|        -3051|         1|              0|         1|         1|    Sales staff|            1.0|         26|     0|\n",
      "+-------+-----------+------------+---------------+------------+----------------+--------------------+--------------------+--------------------+-----------------+----------+-------------+----------+---------------+----------+----------+---------------+---------------+-----------+------+\n",
      "only showing top 5 rows\n",
      "\n"
     ]
    },
    {
     "name": "stderr",
     "output_type": "stream",
     "text": [
      "                                                                                \r"
     ]
    },
    {
     "data": {
      "text/plain": [
       "36457"
      ]
     },
     "execution_count": 12,
     "metadata": {},
     "output_type": "execute_result"
    }
   ],
   "source": [
    "# # Джойним все вместе(cpunt и new_data)\n",
    "# cpunt = cpunt[['dep_value']]\n",
    "# new_data = pd.merge(new_data, cpunt, how='inner', on='ID')\n",
    "new_data = new_data.join(cpunt, on= 'ID', how = 'inner')\\\n",
    "                .select('*')\n",
    "new_data.printSchema()\n",
    "new_data.show(5)\n",
    "new_data.count()"
   ]
  },
  {
   "cell_type": "code",
   "execution_count": 13,
   "id": "ffcecc13",
   "metadata": {},
   "outputs": [
    {
     "name": "stderr",
     "output_type": "stream",
     "text": [
      "                                                                                \r"
     ]
    },
    {
     "data": {
      "text/plain": [
       "Row(ID=5008804, CODE_GENDER='M', FLAG_OWN_CAR='Y', FLAG_OWN_REALTY='Y', CNT_CHILDREN=0, AMT_INCOME_TOTAL=427500.0, NAME_INCOME_TYPE='Working', NAME_EDUCATION_TYPE='Higher education', NAME_FAMILY_STATUS='Civil marriage', NAME_HOUSING_TYPE='Rented apartment', DAYS_BIRTH=-12005, DAYS_EMPLOYED=-4542, FLAG_MOBIL=1, FLAG_WORK_PHONE=1, FLAG_PHONE=0, FLAG_EMAIL=0, OCCUPATION_TYPE=None, CNT_FAM_MEMBERS=2.0, begin_month=15, target=0)"
      ]
     },
     "execution_count": 13,
     "metadata": {},
     "output_type": "execute_result"
    }
   ],
   "source": [
    "#  В итоге к анкетным данным мы добавили таргет\n",
    "new_data.head()"
   ]
  },
  {
   "cell_type": "code",
   "execution_count": 14,
   "id": "ab24ea80",
   "metadata": {},
   "outputs": [
    {
     "name": "stdout",
     "output_type": "stream",
     "text": [
      "root\n",
      " |-- AMT_INCOME_TOTAL: double (nullable = true)\n",
      " |-- CODE_GENDER: string (nullable = true)\n",
      " |-- FLAG_OWN_CAR: string (nullable = true)\n",
      " |-- FLAG_OWN_REALTY: string (nullable = true)\n",
      " |-- CNT_CHILDREN: integer (nullable = true)\n",
      " |-- target: integer (nullable = true)\n",
      "\n"
     ]
    },
    {
     "name": "stderr",
     "output_type": "stream",
     "text": [
      "                                                                                \r"
     ]
    },
    {
     "name": "stdout",
     "output_type": "stream",
     "text": [
      "+----------------+-----------+------------+---------------+------------+------+\n",
      "|AMT_INCOME_TOTAL|CODE_GENDER|FLAG_OWN_CAR|FLAG_OWN_REALTY|CNT_CHILDREN|target|\n",
      "+----------------+-----------+------------+---------------+------------+------+\n",
      "|        427500.0|          M|           Y|              Y|           0|     0|\n",
      "|        427500.0|          M|           Y|              Y|           0|     0|\n",
      "|        112500.0|          M|           Y|              Y|           0|     0|\n",
      "|        270000.0|          F|           N|              Y|           0|     0|\n",
      "|        270000.0|          F|           N|              Y|           0|     0|\n",
      "+----------------+-----------+------------+---------------+------------+------+\n",
      "only showing top 5 rows\n",
      "\n"
     ]
    },
    {
     "name": "stderr",
     "output_type": "stream",
     "text": [
      "                                                                                \r"
     ]
    },
    {
     "data": {
      "text/plain": [
       "36457"
      ]
     },
     "execution_count": 14,
     "metadata": {},
     "output_type": "execute_result"
    }
   ],
   "source": [
    "# Упростим себе задачу и оставим толькo часть признаков\n",
    "new_data = new_data.select('AMT_INCOME_TOTAL', 'CODE_GENDER', 'FLAG_OWN_CAR', 'FLAG_OWN_REALTY', 'CNT_CHILDREN', 'target')\n",
    "new_data.printSchema()\n",
    "new_data.show(5)\n",
    "new_data.count()"
   ]
  },
  {
   "cell_type": "code",
   "execution_count": 15,
   "id": "0d75fd05",
   "metadata": {},
   "outputs": [
    {
     "name": "stderr",
     "output_type": "stream",
     "text": [
      "21/09/08 21:07:29 WARN BLAS: Failed to load implementation from: com.github.fommil.netlib.NativeSystemBLAS\n",
      "21/09/08 21:07:29 WARN BLAS: Failed to load implementation from: com.github.fommil.netlib.NativeRefBLAS\n",
      "                                                                                \r"
     ]
    },
    {
     "name": "stdout",
     "output_type": "stream",
     "text": [
      "[Row(pearson(features_corr_vector)=DenseMatrix(3, 3, [1.0, 0.0337, -0.0011, 0.0337, 1.0, -0.0003, -0.0011, -0.0003, 1.0], False))]\n"
     ]
    }
   ],
   "source": [
    "# Давайте так же глянем корреляции (у численных)\n",
    "# И мы наблюдаем, что корреляции почти нет\n",
    "features_corr_vector = VectorAssembler(inputCols = ['AMT_INCOME_TOTAL','CNT_CHILDREN', 'target'], outputCol = 'features_corr_vector')\n",
    "new_data_corr = features_corr_vector.transform(new_data)\n",
    "corr = Correlation.corr(new_data_corr, 'features_corr_vector').collect()\n",
    "print(corr)"
   ]
  },
  {
   "cell_type": "code",
   "execution_count": 16,
   "id": "9d5eabfb",
   "metadata": {},
   "outputs": [
    {
     "name": "stdout",
     "output_type": "stream",
     "text": [
      "root\n",
      " |-- AMT_INCOME_TOTAL: double (nullable = true)\n",
      " |-- CODE_GENDER: string (nullable = true)\n",
      " |-- FLAG_OWN_CAR: string (nullable = true)\n",
      " |-- FLAG_OWN_REALTY: string (nullable = true)\n",
      " |-- CNT_CHILDREN: integer (nullable = true)\n",
      " |-- label: integer (nullable = true)\n",
      "\n"
     ]
    }
   ],
   "source": [
    "new_data2 = new_data.withColumn('label', F.col('target')).select('AMT_INCOME_TOTAL', 'CODE_GENDER', 'FLAG_OWN_CAR', 'FLAG_OWN_REALTY', 'CNT_CHILDREN', 'label')\n",
    "new_data2.printSchema()"
   ]
  },
  {
   "cell_type": "markdown",
   "id": "36adc138",
   "metadata": {},
   "source": [
    "У нас есть выборка, где указаны параметры клиента, и вышел ли он на просрочку или нет.\n",
    "\n",
    "Дальше будем исследовать, есть ли связь между этими параметрами и возвратом кредита.\n",
    "\n",
    "Можете уже на этом этапе предложить гипотезы, а мы их проверим. Предположим, что чем больше детей, тем меньше вероятность, что будет просрочка."
   ]
  },
  {
   "cell_type": "code",
   "execution_count": 17,
   "id": "f3cbc6ea",
   "metadata": {},
   "outputs": [
    {
     "name": "stderr",
     "output_type": "stream",
     "text": [
      "                                                                                \r"
     ]
    }
   ],
   "source": [
    "# Превращаем категориальные факторы 'CODE_GENDER', 'FLAG_OWN_CAR', 'FLAG_OWN_REALTY' в численные\n",
    "gender_indexer =  StringIndexer(inputCol = 'CODE_GENDER', outputCol = 'CODE_GENDER_INDEX')\n",
    "\n",
    "car_indexer =  StringIndexer(inputCol = 'FLAG_OWN_CAR', outputCol = 'FLAG_OWN_CAR_INDEX')\n",
    "\n",
    "realty_indexer = StringIndexer(inputCol = 'FLAG_OWN_REALTY', outputCol = 'FLAG_OWN_REALTY_INDEX')\n",
    "\n",
    "onehotencoder_gender_vector = OneHotEncoder(inputCol='CODE_GENDER_INDEX', outputCol='CODE_GENDER_VEC')\n",
    "\n",
    "onehotencoder_car_vector = OneHotEncoder(inputCol='FLAG_OWN_CAR_INDEX', outputCol='FLAG_OWN_CAR_VEC')\n",
    "\n",
    "onehotencoder_realty_vector = OneHotEncoder(inputCol='FLAG_OWN_REALTY_INDEX', outputCol='FLAG_OWN_REALTY_VEC')\n",
    "\n",
    "pipeline1 = Pipeline(stages=[gender_indexer, car_indexer, realty_indexer, onehotencoder_gender_vector, onehotencoder_car_vector, onehotencoder_realty_vector])\n",
    "new_data3 = pipeline1.fit(new_data2).transform(new_data2)"
   ]
  },
  {
   "cell_type": "code",
   "execution_count": 18,
   "id": "37c95cde",
   "metadata": {},
   "outputs": [
    {
     "name": "stderr",
     "output_type": "stream",
     "text": [
      "                                                                                \r"
     ]
    },
    {
     "name": "stdout",
     "output_type": "stream",
     "text": [
      "-RECORD 0------------------------------\n",
      " AMT_INCOME_TOTAL      | 427500.0      \n",
      " CODE_GENDER           | M             \n",
      " FLAG_OWN_CAR          | Y             \n",
      " FLAG_OWN_REALTY       | Y             \n",
      " CNT_CHILDREN          | 0             \n",
      " label                 | 0             \n",
      " CODE_GENDER_INDEX     | 1.0           \n",
      " FLAG_OWN_CAR_INDEX    | 1.0           \n",
      " FLAG_OWN_REALTY_INDEX | 0.0           \n",
      " CODE_GENDER_VEC       | (1,[],[])     \n",
      " FLAG_OWN_CAR_VEC      | (1,[],[])     \n",
      " FLAG_OWN_REALTY_VEC   | (1,[0],[1.0]) \n",
      "-RECORD 1------------------------------\n",
      " AMT_INCOME_TOTAL      | 427500.0      \n",
      " CODE_GENDER           | M             \n",
      " FLAG_OWN_CAR          | Y             \n",
      " FLAG_OWN_REALTY       | Y             \n",
      " CNT_CHILDREN          | 0             \n",
      " label                 | 0             \n",
      " CODE_GENDER_INDEX     | 1.0           \n",
      " FLAG_OWN_CAR_INDEX    | 1.0           \n",
      " FLAG_OWN_REALTY_INDEX | 0.0           \n",
      " CODE_GENDER_VEC       | (1,[],[])     \n",
      " FLAG_OWN_CAR_VEC      | (1,[],[])     \n",
      " FLAG_OWN_REALTY_VEC   | (1,[0],[1.0]) \n",
      "-RECORD 2------------------------------\n",
      " AMT_INCOME_TOTAL      | 112500.0      \n",
      " CODE_GENDER           | M             \n",
      " FLAG_OWN_CAR          | Y             \n",
      " FLAG_OWN_REALTY       | Y             \n",
      " CNT_CHILDREN          | 0             \n",
      " label                 | 0             \n",
      " CODE_GENDER_INDEX     | 1.0           \n",
      " FLAG_OWN_CAR_INDEX    | 1.0           \n",
      " FLAG_OWN_REALTY_INDEX | 0.0           \n",
      " CODE_GENDER_VEC       | (1,[],[])     \n",
      " FLAG_OWN_CAR_VEC      | (1,[],[])     \n",
      " FLAG_OWN_REALTY_VEC   | (1,[0],[1.0]) \n",
      "-RECORD 3------------------------------\n",
      " AMT_INCOME_TOTAL      | 270000.0      \n",
      " CODE_GENDER           | F             \n",
      " FLAG_OWN_CAR          | N             \n",
      " FLAG_OWN_REALTY       | Y             \n",
      " CNT_CHILDREN          | 0             \n",
      " label                 | 0             \n",
      " CODE_GENDER_INDEX     | 0.0           \n",
      " FLAG_OWN_CAR_INDEX    | 0.0           \n",
      " FLAG_OWN_REALTY_INDEX | 0.0           \n",
      " CODE_GENDER_VEC       | (1,[0],[1.0]) \n",
      " FLAG_OWN_CAR_VEC      | (1,[0],[1.0]) \n",
      " FLAG_OWN_REALTY_VEC   | (1,[0],[1.0]) \n",
      "-RECORD 4------------------------------\n",
      " AMT_INCOME_TOTAL      | 270000.0      \n",
      " CODE_GENDER           | F             \n",
      " FLAG_OWN_CAR          | N             \n",
      " FLAG_OWN_REALTY       | Y             \n",
      " CNT_CHILDREN          | 0             \n",
      " label                 | 0             \n",
      " CODE_GENDER_INDEX     | 0.0           \n",
      " FLAG_OWN_CAR_INDEX    | 0.0           \n",
      " FLAG_OWN_REALTY_INDEX | 0.0           \n",
      " CODE_GENDER_VEC       | (1,[0],[1.0]) \n",
      " FLAG_OWN_CAR_VEC      | (1,[0],[1.0]) \n",
      " FLAG_OWN_REALTY_VEC   | (1,[0],[1.0]) \n",
      "only showing top 5 rows\n",
      "\n"
     ]
    }
   ],
   "source": [
    "new_data3.show(5, truncate = False, vertical = True)"
   ]
  },
  {
   "cell_type": "code",
   "execution_count": 19,
   "id": "7205f45e",
   "metadata": {},
   "outputs": [],
   "source": [
    "# Разделим выборку на трейн и тест, на трейн будем обучать модель, на тест валидировать.\n",
    "# плюс валидация и train и test\n",
    "train, test = new_data3.randomSplit([0.7, 0.3])"
   ]
  },
  {
   "cell_type": "code",
   "execution_count": 20,
   "id": "beaf6b92",
   "metadata": {},
   "outputs": [
    {
     "name": "stdout",
     "output_type": "stream",
     "text": [
      "root\n",
      " |-- AMT_INCOME_TOTAL: double (nullable = true)\n",
      " |-- CODE_GENDER: string (nullable = true)\n",
      " |-- FLAG_OWN_CAR: string (nullable = true)\n",
      " |-- FLAG_OWN_REALTY: string (nullable = true)\n",
      " |-- CNT_CHILDREN: integer (nullable = true)\n",
      " |-- label: integer (nullable = true)\n",
      " |-- CODE_GENDER_INDEX: double (nullable = false)\n",
      " |-- FLAG_OWN_CAR_INDEX: double (nullable = false)\n",
      " |-- FLAG_OWN_REALTY_INDEX: double (nullable = false)\n",
      " |-- CODE_GENDER_VEC: vector (nullable = true)\n",
      " |-- FLAG_OWN_CAR_VEC: vector (nullable = true)\n",
      " |-- FLAG_OWN_REALTY_VEC: vector (nullable = true)\n",
      " |-- income_children_vector: vector (nullable = true)\n",
      "\n"
     ]
    },
    {
     "name": "stderr",
     "output_type": "stream",
     "text": [
      "[Stage 82:>                                                         (0 + 1) / 1]\r"
     ]
    },
    {
     "name": "stdout",
     "output_type": "stream",
     "text": [
      "+----------------+-----------+------------+---------------+------------+-----+-----------------+------------------+---------------------+---------------+----------------+-------------------+----------------------+\n",
      "|AMT_INCOME_TOTAL|CODE_GENDER|FLAG_OWN_CAR|FLAG_OWN_REALTY|CNT_CHILDREN|label|CODE_GENDER_INDEX|FLAG_OWN_CAR_INDEX|FLAG_OWN_REALTY_INDEX|CODE_GENDER_VEC|FLAG_OWN_CAR_VEC|FLAG_OWN_REALTY_VEC|income_children_vector|\n",
      "+----------------+-----------+------------+---------------+------------+-----+-----------------+------------------+---------------------+---------------+----------------+-------------------+----------------------+\n",
      "|         27000.0|          F|           N|              Y|           0|    0|              0.0|               0.0|                  0.0|  (1,[0],[1.0])|   (1,[0],[1.0])|      (1,[0],[1.0])|         [27000.0,0.0]|\n",
      "+----------------+-----------+------------+---------------+------------+-----+-----------------+------------------+---------------------+---------------+----------------+-------------------+----------------------+\n",
      "only showing top 1 row\n",
      "\n"
     ]
    },
    {
     "name": "stderr",
     "output_type": "stream",
     "text": [
      "                                                                                \r"
     ]
    }
   ],
   "source": [
    "income_children_vector = VectorAssembler(inputCols = ['AMT_INCOME_TOTAL', 'CNT_CHILDREN'], outputCol = 'income_children_vector')\n",
    "train_transformed = income_children_vector.transform(train)\n",
    "train_transformed.printSchema()\n",
    "train_transformed.show(1)"
   ]
  },
  {
   "cell_type": "code",
   "execution_count": 21,
   "id": "1dadd3f8",
   "metadata": {},
   "outputs": [
    {
     "name": "stderr",
     "output_type": "stream",
     "text": [
      "                                                                                \r"
     ]
    },
    {
     "data": {
      "text/plain": [
       "10980"
      ]
     },
     "execution_count": 21,
     "metadata": {},
     "output_type": "execute_result"
    }
   ],
   "source": [
    "test_transformed = income_children_vector.transform(test)\n",
    "test_transformed.count()"
   ]
  },
  {
   "cell_type": "code",
   "execution_count": 22,
   "id": "7294e04f",
   "metadata": {},
   "outputs": [
    {
     "name": "stderr",
     "output_type": "stream",
     "text": [
      "                                                                                \r"
     ]
    }
   ],
   "source": [
    "# Отскалируем численные 'AMT_INCOME_TOTAL', 'CNT_CHILDREN'\n",
    "mms = MinMaxScaler(inputCol = 'income_children_vector', outputCol = 'income_children_vector_SCALED')\n",
    "train = mms.fit(train_transformed).transform(train_transformed)\n",
    "test = mms.fit(train_transformed).transform(train_transformed)"
   ]
  },
  {
   "cell_type": "code",
   "execution_count": 23,
   "id": "5df4935c",
   "metadata": {},
   "outputs": [
    {
     "name": "stderr",
     "output_type": "stream",
     "text": [
      "[Stage 105:>                                                        (0 + 1) / 1]\r"
     ]
    },
    {
     "name": "stdout",
     "output_type": "stream",
     "text": [
      "+----------------------+-----------------------------+\n",
      "|income_children_vector|income_children_vector_SCALED|\n",
      "+----------------------+-----------------------------+\n",
      "|[27000.0,0.0]         |(2,[],[])                    |\n",
      "|[29250.0,0.0]         |[0.0014534883720930235,0.0]  |\n",
      "|[29250.0,0.0]         |[0.0014534883720930235,0.0]  |\n",
      "|[29250.0,0.0]         |[0.0014534883720930235,0.0]  |\n",
      "|[30150.0,0.0]         |[0.0020348837209302325,0.0]  |\n",
      "+----------------------+-----------------------------+\n",
      "only showing top 5 rows\n",
      "\n"
     ]
    },
    {
     "name": "stderr",
     "output_type": "stream",
     "text": [
      "                                                                                \r"
     ]
    }
   ],
   "source": [
    "train.select('income_children_vector', 'income_children_vector_SCALED').show(5, truncate = False)"
   ]
  },
  {
   "cell_type": "code",
   "execution_count": 24,
   "id": "6fe5665c",
   "metadata": {},
   "outputs": [
    {
     "name": "stdout",
     "output_type": "stream",
     "text": [
      "root\n",
      " |-- AMT_INCOME_TOTAL: double (nullable = true)\n",
      " |-- CODE_GENDER: string (nullable = true)\n",
      " |-- FLAG_OWN_CAR: string (nullable = true)\n",
      " |-- FLAG_OWN_REALTY: string (nullable = true)\n",
      " |-- CNT_CHILDREN: integer (nullable = true)\n",
      " |-- label: integer (nullable = true)\n",
      " |-- CODE_GENDER_INDEX: double (nullable = false)\n",
      " |-- FLAG_OWN_CAR_INDEX: double (nullable = false)\n",
      " |-- FLAG_OWN_REALTY_INDEX: double (nullable = false)\n",
      " |-- CODE_GENDER_VEC: vector (nullable = true)\n",
      " |-- FLAG_OWN_CAR_VEC: vector (nullable = true)\n",
      " |-- FLAG_OWN_REALTY_VEC: vector (nullable = true)\n",
      " |-- income_children_vector: vector (nullable = true)\n",
      " |-- income_children_vector_SCALED: vector (nullable = true)\n",
      " |-- features_sparse_vector: vector (nullable = true)\n",
      "\n"
     ]
    },
    {
     "name": "stderr",
     "output_type": "stream",
     "text": [
      "[Stage 110:>                                                        (0 + 1) / 1]\r"
     ]
    },
    {
     "name": "stdout",
     "output_type": "stream",
     "text": [
      "-RECORD 0---------------------------------------------\n",
      " income_children_vector_SCALED | (2,[],[])            \n",
      " CODE_GENDER_VEC               | (1,[0],[1.0])        \n",
      " FLAG_OWN_CAR_VEC              | (1,[0],[1.0])        \n",
      " FLAG_OWN_REALTY_VEC           | (1,[0],[1.0])        \n",
      " features_sparse_vector        | [0.0,0.0,1.0,1.0,... \n",
      "only showing top 1 row\n",
      "\n",
      "root\n",
      " |-- AMT_INCOME_TOTAL: double (nullable = true)\n",
      " |-- CODE_GENDER: string (nullable = true)\n",
      " |-- FLAG_OWN_CAR: string (nullable = true)\n",
      " |-- FLAG_OWN_REALTY: string (nullable = true)\n",
      " |-- CNT_CHILDREN: integer (nullable = true)\n",
      " |-- label: integer (nullable = true)\n",
      " |-- CODE_GENDER_INDEX: double (nullable = false)\n",
      " |-- FLAG_OWN_CAR_INDEX: double (nullable = false)\n",
      " |-- FLAG_OWN_REALTY_INDEX: double (nullable = false)\n",
      " |-- CODE_GENDER_VEC: vector (nullable = true)\n",
      " |-- FLAG_OWN_CAR_VEC: vector (nullable = true)\n",
      " |-- FLAG_OWN_REALTY_VEC: vector (nullable = true)\n",
      " |-- income_children_vector: vector (nullable = true)\n",
      " |-- income_children_vector_SCALED: vector (nullable = true)\n",
      " |-- features_sparse_vector: vector (nullable = true)\n",
      "\n"
     ]
    },
    {
     "name": "stderr",
     "output_type": "stream",
     "text": [
      "                                                                                \r"
     ]
    }
   ],
   "source": [
    "# формируем вектор(список) features из данных отдельных колонок\n",
    "features_vector = VectorAssembler(inputCols = ['income_children_vector_SCALED', 'CODE_GENDER_VEC', 'FLAG_OWN_CAR_VEC', 'FLAG_OWN_REALTY_VEC'], outputCol = 'features_sparse_vector')\n",
    "train = features_vector.transform(train)\n",
    "train.printSchema()\n",
    "train.select('income_children_vector_SCALED', 'CODE_GENDER_VEC', 'FLAG_OWN_CAR_VEC', 'FLAG_OWN_REALTY_VEC', 'features_sparse_vector').show(1, vertical = True)\n",
    "test = features_vector.transform(test)\n",
    "test.printSchema()"
   ]
  },
  {
   "cell_type": "code",
   "execution_count": 25,
   "id": "596baf01",
   "metadata": {},
   "outputs": [],
   "source": [
    "def sparse_to_array(vector):\n",
    "    vector = DenseVector(vector)\n",
    "    new_array = list([float(x) for x in vector])\n",
    "    return new_array\n",
    "\n",
    "sparse_to_array_udf = F.udf(sparse_to_array, ArrayType(FloatType()))"
   ]
  },
  {
   "cell_type": "code",
   "execution_count": 26,
   "id": "257bd995",
   "metadata": {},
   "outputs": [],
   "source": [
    "train = train.withColumn('features_array', sparse_to_array_udf(F.col('features_sparse_vector')))"
   ]
  },
  {
   "cell_type": "code",
   "execution_count": 27,
   "id": "119f7470",
   "metadata": {},
   "outputs": [
    {
     "name": "stderr",
     "output_type": "stream",
     "text": [
      "[Stage 115:>                                                        (0 + 1) / 1]\r"
     ]
    },
    {
     "name": "stdout",
     "output_type": "stream",
     "text": [
      "+---------------------------------------+----------------------------------+\n",
      "|features_sparse_vector                 |features_array                    |\n",
      "+---------------------------------------+----------------------------------+\n",
      "|[0.0,0.0,1.0,1.0,1.0]                  |[0.0, 0.0, 1.0, 1.0, 1.0]         |\n",
      "|[0.0014534883720930235,0.0,1.0,0.0,1.0]|[0.0014534884, 0.0, 1.0, 0.0, 1.0]|\n",
      "|[0.0014534883720930235,0.0,1.0,0.0,1.0]|[0.0014534884, 0.0, 1.0, 0.0, 1.0]|\n",
      "|[0.0014534883720930235,0.0,1.0,0.0,1.0]|[0.0014534884, 0.0, 1.0, 0.0, 1.0]|\n",
      "|[0.0020348837209302325,0.0,0.0,1.0,1.0]|[0.0020348837, 0.0, 0.0, 1.0, 1.0]|\n",
      "|[0.002906976744186047,0.0,1.0,1.0,0.0] |[0.0029069767, 0.0, 1.0, 1.0, 0.0]|\n",
      "|(5,[0,2],[0.002906976744186047,1.0])   |[0.0029069767, 0.0, 1.0, 0.0, 0.0]|\n",
      "|(5,[0,2],[0.002906976744186047,1.0])   |[0.0029069767, 0.0, 1.0, 0.0, 0.0]|\n",
      "|(5,[0,2],[0.002906976744186047,1.0])   |[0.0029069767, 0.0, 1.0, 0.0, 0.0]|\n",
      "|(5,[0,2],[0.002906976744186047,1.0])   |[0.0029069767, 0.0, 1.0, 0.0, 0.0]|\n",
      "|[0.002906976744186047,0.0,0.0,1.0,1.0] |[0.0029069767, 0.0, 0.0, 1.0, 1.0]|\n",
      "|[0.002906976744186047,0.0,0.0,1.0,1.0] |[0.0029069767, 0.0, 0.0, 1.0, 1.0]|\n",
      "|[0.002906976744186047,0.0,0.0,1.0,1.0] |[0.0029069767, 0.0, 0.0, 1.0, 1.0]|\n",
      "|[0.002906976744186047,0.0,0.0,1.0,1.0] |[0.0029069767, 0.0, 0.0, 1.0, 1.0]|\n",
      "|(5,[0,2],[0.002927325581395349,1.0])   |[0.0029273257, 0.0, 1.0, 0.0, 0.0]|\n",
      "|(5,[0,2],[0.002927325581395349,1.0])   |[0.0029273257, 0.0, 1.0, 0.0, 0.0]|\n",
      "|[0.0031976744186046516,0.0,1.0,1.0,1.0]|[0.0031976744, 0.0, 1.0, 1.0, 1.0]|\n",
      "|[0.003488372093023256,0.0,1.0,1.0,1.0] |[0.003488372, 0.0, 1.0, 1.0, 1.0] |\n",
      "|[0.003488372093023256,0.0,1.0,1.0,1.0] |[0.003488372, 0.0, 1.0, 1.0, 1.0] |\n",
      "|[0.003488372093023256,0.0,1.0,1.0,1.0] |[0.003488372, 0.0, 1.0, 1.0, 1.0] |\n",
      "+---------------------------------------+----------------------------------+\n",
      "only showing top 20 rows\n",
      "\n"
     ]
    },
    {
     "name": "stderr",
     "output_type": "stream",
     "text": [
      "                                                                                \r"
     ]
    }
   ],
   "source": [
    "train.select('features_sparse_vector', 'features_array').show(truncate = False)"
   ]
  },
  {
   "cell_type": "code",
   "execution_count": 28,
   "id": "6f056bed",
   "metadata": {},
   "outputs": [
    {
     "name": "stderr",
     "output_type": "stream",
     "text": [
      "                                                                                \r"
     ]
    },
    {
     "data": {
      "text/plain": [
       "25477"
      ]
     },
     "execution_count": 28,
     "metadata": {},
     "output_type": "execute_result"
    }
   ],
   "source": [
    "test = test.withColumn('features_array', sparse_to_array_udf(F.col('features_sparse_vector')))\n",
    "test.count()"
   ]
  },
  {
   "cell_type": "markdown",
   "id": "a8620a04",
   "metadata": {},
   "source": [
    "#  Модель"
   ]
  },
  {
   "cell_type": "markdown",
   "id": "50f96555",
   "metadata": {},
   "source": [
    "Модель будет находить коэффициенты alpha и beta, где Х наши колонки/факторы. Погуглите подробнее, но данная формула даёт вероятность события."
   ]
  },
  {
   "cell_type": "markdown",
   "id": "0d5876e3",
   "metadata": {},
   "source": [
    "![Peq2.jpg](data:image/jpeg;base64,/9j/4AAQSkZJRgABAQAAAQABAAD/2wBDAAUDBAQEAwUEBAQFBQUGBwwIBwcHBw8LCwkMEQ8SEhEPERETFhwXExQaFRERGCEYGh0dHx8fExciJCIeJBweHx7/2wBDAQUFBQcGBw4ICA4eFBEUHh4eHh4eHh4eHh4eHh4eHh4eHh4eHh4eHh4eHh4eHh4eHh4eHh4eHh4eHh4eHh4eHh7/wgARCACKAZYDAREAAhEBAxEB/8QAHAABAAIDAQEBAAAAAAAAAAAAAAYHAwQFAggB/8QAFAEBAAAAAAAAAAAAAAAAAAAAAP/aAAwDAQACEAMQAAAA+ywAAAAAAAAAAAAAAAAAAAAAAAAAAAAAAAAYTMAAAAAAAAAAAAADCZgAAAAAAAAAaZGyRlRktO4SAwnAOodE0ijC0CYAjxIQADlnPJCeyDkELjOgRM7pvgAAAAAAAAETOiQ04BY5XpNyEmkXAezUKEPpQ5oKrLDOsZjAZynzmF+AhpWZfwOUcImQAAAAAAAAB5I0REkxLzSN05RyDvleEuPR0Ssi3DSN04RumidE5B7ImdE7BhOiVMWYSEygAAAAAAAEJIeYC7QAAAaZySRAEXJEZgAAAcQyHXBzTRJAAAAAQIxk4NkAAA+Zi0CaHVAAAAAAAAAAAAAAAAAAB8sH0efOxfpXwO8WOAcwiJPTIAAAAAAAAAAAAAAAAAAD5ELiJibxFAdM7REgAAAAfh+gAAAAAAAAAAAH4fpOTcAI6VMX2DEYQejZAAAABHzZK/OoTYxns4ZJDMckp8uk3QcQ7YAIudU6YKbJgTQ0yPksAAAAAAAAAABXxMigS2TSNc4pyS+TEQ0rI+gTwRshhYZiOyRIp8uAmZzygy6yQggRPQAAAAACrDOWYCIEvAMJ5Iad47h+H4YT8OKaBKT8PRWJax5MIM5gMZ4KhLnPJ6KtJedc6QAAAAABDSLFtkFKtLGJoUeRU+oDcAAAOSahIQa5FCZgAAHMI8TQAhJJzfAAAAAABWJFi9wVIW2D4/PoEn4AAAAAAAAAAAAAAAAAAAANU/DbBiMoNIymwAAAAAAAAAAAAAAAAAAAAAAAAAAAAAAAAAAAAAAAAAAAAAAAAAAAAAAAAAAAAAAAAAAAAAAAAAAAAAAAAAAAAAAAAAAAAf/EADcQAAICAQMDAwEFBgUFAAAAAAIDAQQFABEUEhNVBhAxFSAhMDJAFiI1QVBTIyQzUlQ0Q0RgcP/aAAgBAQABDAL/ANC3jfbf7/1m8b7fz/SNMVKNpflxUEVWLDP9V7BUk2l+Wp1WMYWQu2nL1gWWHYpLLW/cyFjiUm2ejr9imBGSKdoTdqOOAW8CJDlPDrSwTHTBkgkYYS5o5B6m3EXrDGPxyrgKgrlkmH7WbHZdXX0b/ae9SA6nMFcRdqSom8gICPvj2zEW4pG2m8gZWuuu0q6qlo5tJAgDpJptnWTEuITl/wCrXYLkA4fy/o8uMlirQj80ZgqSCj49TN7WGdt85upWThII/wB1lOXNxypbMg7N17A4mwR33HA1rMFEzknzHqiZldStvsv1NKOinU36JUCqyIAIgFoatyoao4MLdhdZMtZq9FinkauYsbezHpWwFm0ROwBsDpW4kzfr2YtUt77i0hDwZ1Hda2DaoCETYAkZisJMygR7yuz3u6HbAhMYICghj/H9WELfy7Vrvqgvv6h9r1kxOK1aIKzgh+nZaxjDn7va3MRVbJfGFGRxNWC+f0lBRVgmv/287XbbbSQK5JI46lBwfYiZ05QOUSmjBBqyhNhXaeuDH6fT7Mq7A9MrAhgSCCj0r/Aa2n06zmQxq+orNSvZiIevuQlQJX0LjYcuARkscUDETo1gZARDEzp9Wu9i2OVBm9S3pJTR6g4lficTtR2ErBKhUsYELNKrZMTcmCKKdaGgwUiJmy03NHWVYkE4RzbNDuuPr0mlWU3vLVsxlCobu8ad2XD7VRrOqR0D741scxlrdl9RvVx4/JEREbR8focxfDHU5cUdRKS9tPl5K+5GvSdm5ZrNmyUmH4DA6x6eoh1SqKpr7aOuA97FJL2i1ks6hjYYjeZ/BGsoWubET11ELrIFCt4D2sJCwg0s+8DqJM0FMTv+CeYxyy6Ts9MjmcWX/mBpZiwIMCEh+360j/GpSe/Z4OOMIe45sDWNLEwVeRlf9Gy/+b9W16/8rKEOXIvWBj6IM+7aXEzKchcTRR3n79P7S4z/AHN1+0uM/wBzdUMzSuv7CJPr93pU9facsWAvC4xZ9Q0w3iNo2j+j4kX3fUNq0gwCX4/I2hlb8nsrHUkUEdlA7RbsoqK7thnQH1zFf8wdfXMV/wAwdVcnRtN7SLEGdoHGrpQ/snxcr5YdcXK+WHXFyvlh1xcr5YdcXK+WHXFyvlh1xcr5YdcXK+WHXFyvlh1xcr5YdcXK+WHXFyvlh1xcr5YdcXK+WHXFyvlh1xcr5YdcXK+WHXFyvlh1xcr5YdcXK+WHXFyvlh1xcr5YdcXK+WHXFyvlh1xcr5YdcXK+WHXFyvlh1xcr5YdcXK+WHXFyvlh1xcr5YdcXK+WHXFyvlh1xcr5YdcXK+WHXFyvlh1xcr5YdcXK+WHSoKFjBl1l73ZtdvaqoCLAY+9jO5ulLPeYifmN9dtf9sddtf9sdQAR98DEfh5GxxaTX/OqquykQmeokNZesWjJ5prYFz30ZN0yWnH21GfzquzuoW3bbTmLSuWNMQCL9PoM++MQM7xEx7WhaSZ7B9DKGRtW6cLA/88oTENjZ1l7Un8ivDunp+yd+mDJWTx6luUw2ABwRe1m6+llwVaftVocw93PPpDTQFi5A43jGNJleRZO7P02fjfFMnT2QpBun4pRj/wBm45hqMsJyPpaOVv3blOew4+Xa1QpzxEHzLWs7MfUcaLp2rWDrXPUVXf8AeVoZiY3id4v3hSQoVIHZrbYvPkpj4IY1vE77TptSWMk+XZDWJpydEC5dodWHpqV+69nSD7ddNXktZ0qEoIYIfjlhZoWG0T7hJdWD0rKVz3W4YEhjE9n8untUhcsaYgOX7l6hORg4WOPtLuVQcuY98P8AN0/5fi5d2SCu864qSHppzX4hbXHJn7XrnFdWX2+r7G8b7bxuYwYSBRuNuo48Uymtkb16yUrWMLDf3MRMdiGCjpH7v3Y1kFgym2DjfWD/AIPV10Bvv0xvIBPyAzoxghkZ32wAwDcgIxtGvjRCJD0lEFBCJD0kMTGgEQjYRgdQsBmZgBiT2WopjYdBfyHBqWjhEaKIn5iJ10Dtt0xsIjHxERorlwmX+iUAqo11jGqd+6Da6gQkVB+X8XOfwe3r0j/A1ezsjCmkvhXj1l78Mt0C4lwdfVY8fkdV2d5Qs6DDVi03J5Y6CmkmrmFUyYmthl72kwUKGDncvt2VE5chDJCKNfioFPdIw9jiZGYEumadLjNYcPMvwLKu/XYmZkdMoAQVQgyGPf6eHFso7h6SHaSK99/x87bqxjbSpsK7npa3VXiFqOykD9s7/wBdjPfFjUqZS1Xyqg3r3qHXCKezP6X0B/MB121/2x99on5j3YpbPuYsT0ACEbCMDH/zn//EADsQAAEDAAcFBQYFAwUAAAAAAAEAAhEDEiExQXTRECJRYXEEEyAwUkKBkaGxwTIzQFBiFHKyI2Bw4fD/2gAIAQEADT8C/wB6MElU++77BMaXFPBc2pSloYMLr0eOIwTBMTGwYo3c1dLTsPtNiR8VRuq0bGtbvzdFl6Psw2B8Btpn1b7rJ8XMpljiTEbaNsxVBDviE/epHw3cGM2fBep0fbZQ77Pdh709ocP0ndO+iNG36J8MHvXZ6Noo3TiE6iEmLjCDfwljLfkuFRlvyVPThr+iNM21vsNuTB8EbiFcAL3HgE91SkZ6Bhsf+Fs2lepoB+qNNYajLN08l6Sxo+gT7Ggm9C8kqJrzYjcQuz0M0Y5mLVRUQMYPcD9p2v43MHqKeO8o3cdoYZXdD9Kz8s8uHuXfVqU8AELqxJj47HXjZwKJrHqhdNq3v8ihcZNiGBKGCNPaYvs2MMt5bKIyw8E68KIqJogBNuNxVG2q0jAcEyhBfug2k4IudVdES2UbzJtXqkymMJldopGgsqCKptVJ+Y7+PD3/AKO5jeJThWq0T6jWBB3+m83nj5P8TCFzS6Y8DDLd+5c/JpormeCbdteIKoPwW3eVzadhuIM+RJrfJXh1LSlzdFcKt37PR1Z/yKi2sEII6qYsC/sX9iibW+A4ELnJ/aGkwXNrckb20dFErEm8qYldCuhXCCvVUrLLDVZYarLDVZYarLDVZYarLDVZYarLDVZYarLDVZYarLDVZYarLDVZYarLDVZYarLDVZYarLDVZYarLDVZYarLDVZYarLDVZYarLDVZYarLDVZYarLDVZYarLDVZYarLDVZYaoC10RJ8BBtc+rHyVIRJ7275eDoui6eW0WDicF7TvUeKoH922oYki8kquQxxFrm4FNbKe0OhC8lMEumyEdmBiUXkOFWxkYlcYjaZs9/hFh5dVRmHxhtewua6riME47lHVExz2FUTzRvPGMf07S1x6BwTGlyNZ99tY8Oaq2zfy+SqkxXsVRpivYu8JdN1bBBhqn2XuH12vMNbN3MrtbJc42b/2/72C9HBrrFLrA/mU29xVm91RtCa1wEeqE+icXNH4pxJ6Jza08SdgxKoTW7O3jzOiLZI4bXdqdHyH286jaTXcZcegRLrT1209JUvu8JEEItqNc7hzTGhsx4OBQusuQYbJXdBdF0R4GEO0mNvArgdnJOvsvQE3KnpGsqQbZPWzZ02dmueWnhJxVIwHkE0ed3RVZ312NxZQEgplNO9QxPRZco+y8QVQ/nPaYLvemutdQ4DmVG8efkGwwE0ANkXbeKpX13ggWnyHtLZC7NFT3CPB2h7nPdjamiPPqEVK4lS7dLwDft/qNpO46kbI/8VwoWWDrh+19F08X8hK4D/jr/8QALBABAAEDAwMCBgIDAQAAAAAAAREAITFBUWEQcYGRoSAwQLHB8FDxYHDR4f/aAAgBAQABPyH/AALS1kxrH1tjMlcNf2/0rkwntBNYDw4hv2QQ9a9h8AJqYZCcDyBd5q3Q24hkZPivXA089BwGlTYKlL5EdOY38VcMbdCemLkAewJ7VDVtluCf8IcUYV7xvOCvOOOvLC7M0ucfFNrWBil2N6lmguBcTOKQCYejDOEwjMyOJiKhsQpjFBbnCy71xdhD7A6aVabm57BJ5r2VUEn6TNrijW61ObKQ+FRP8tL+01YEB79I5moWqmJfKG08Vf0tALuJ0dJJKj4Wrfx392Pz4p0mcwyy/ZxUBz5oAqXHkuRhh9ylxYmGlGA1Wo8VtFnIE6sTLvQiSYpAEw3oSrtNyTtYlGrjCXuUj76482r2GnfpCxexvRQ9mGDzSMg6Rt3nFGUiVSJw1rhJ/ce6o9ejrsTzg79RHbY7jw8atJPYo0c/3jrd+Z7Iqb7c9vpEEhxUNZby2z5w7RzXGZybjvLU/wD8+kQrdAgpD4ToqR78lXw5QZVGFc1HWuBsjv03lauU9Je1GnwkR6UU0skv3pl9oruTpPjdOqIn0ektyA1/pRhzQ+tKSeEoqOkpaFAW6JWDaTSodsFjwNKvC0LFpcbGs0dsOgIkCxbSl/Ijd171H5PI4na9q0GDokgnWs+XKwKW0zG0dqwfsSY1DnD18kzgEAafRSRh/ZYpbrxCsYy96FR4P2Xi3yTncqV60d1iAXTafgxqY0D3KwSCJUvySfBEi8II2oWcFWY6lGwCMSUQTo4YR5t8qKPaH+KUg88n3K0oaMfPyOQ6HeXmK/8Ab0nDQ1Ku7G38PutiO34KR4dQg/FZJ8HK3qVPcx5zL/XVCBc2WEW+B/lBOK9KSvosURAAWA/h0l2rCFgZNKMtalsd5rdrHSu61CBmAt/Ffp34r9O/FTXcmOA7lRdTF4s2hf4eZMmTJkyZMmTL0yZMmTJkyZMmTJkyZMmTJkyZMmTJky9Mg/qd4mNPgEyKeCuU1F7fFkCdM89T4IbJX9Tr+p0zLuPlgjZd+LD1SsKDLZ1aPFbAekJWPObg5KsLcR3grmzRMSTFGeG7gKmQ+uYGww6UGNCToEjErATFh4qUdENGr8H3aJu1ovYddbuLpiEfj4QM1NUbosHmo24DV26iDg0zqL91KvekHA6Z78adIRDhK5+lYf3EPn6fbPv4H2rL7TsE1mAKRvmLL0/4/acubKZwtWhtjFO4zLQWxioNpm0RnWIq9XpjgffoCMmEbNShlOJ9qHvpTty58DLflLRCSMjQwAtgHFcZk4O1quElhR6VM7ZgF40ocVREFkwsXpupMTcrHrTOFhfxQsLtPK7Lk7VOuQOct4q7z0yg2WCodPTSYMvIhaizUQm71HrdqN5wJ7r52Nq412LHmpkeV9y6878t78X+AdFhkm9BKaRhGsi3E/ui3NQAmI5sRno3oAIMVLNdCSsez/UVGipuA21NfNfpdq8npypWWN2lhgRcXqVHOWPB0AEBBTJZyEjXDRySi1QhUzAis0qIDypQHPsHinWJpmLQzsd6HjvhNezrCrD20ih/Pbm0RPu9qbWiWZNY/FTn2RLK8vPzv0O1foN/S/QI8QmtFR7LjuemWFf0f3NKlIngAxHCberWdyq/ZYvQfzIGsLvyAL6wjI96UmC1EDt1TgmATFNN6XGDtb5BCI5kBItTa1UIZsJ+Dt8khrDxaozRMvB8+RL64dozRyjvIHD19r63ud4ZXfSVRvRTRe6LD+LXZQ7or+p9WAgxiTHU+FGg/dXFdSD/AF1//8QAKhABAQACAQQABQQCAwAAAAAAAREAITEQQVFhIDBxgZFAUKHwscFgcPH/2gAIAQEAAT8Q/wCBbWqpZFSzxp/WpQZNGwQUPBH5P0t0Q/w5P4HNkqX4sV4GDzWKjFk85fwOA9HU8oDUAaays1N10he8f5YfoTRn4ejAYCgG1V0GHFFaMdy6nvTnHnoHHIJpnRT/ABUbB0bPjaw32m/wGK921ArhA9Z1bQAgaart1NyreOayPhmviKnIWq4B2vRvJk1P7AMKe1N4odAR8nQ3LOs2AoRsG8OXo/ZYWlCCaS4Pjaqn+pO+19vThynjqFHoKeMObfoSh+kpgjjl2CecBh55hYcfY5k5UQZM2OtAACLKc0cfD5KQpBgtoS6TE+tT/jSlhtixwB2kUH0jj9fE2PcOIoPc6IinAoGBOKNQVyr+Vfa4yqTtWQe4IXNQHdp6zauDBL1o3y8jvpMEEFFE4TJMoyE/I4GhVogWxIfpcMazo2pALBIEwOfiLqvDdJ9c9CoJXq1bNFyQjgj+VaDNCxWK/G3T3cD4sm9whpHyZS6XwVIT7zAZXaGu+J/CdWfrdzjQdnBy0GUm9RcmsP8AwvqCwCnQhrkq5VDEEIJ6P0iABREeExaXLc5iDnyOGtsEIiGko19AzBVYs121AV8HT8WAcp6I58R0jhHkTybxWHeESItIKFcbxyHCEHls889AAUGDCggwBezB9zJXO8MX27xX3bUPRSzEZXDDElG2HR/weWdIe6HTe1j9oNI+Q7ubJOpht7b5BynKPJraFt53bbh7ycGXbGIFOAuaRdnTrC7wvJqgINlZg99YZwosd3B6xrt/iCwgYuAwPXEU0JyXBecihFQFvLg26IZDwk3V6IS67jiTiRN4XUZ2gcYIkt1RNJOUmewKWgYJSUJAGgD9Fr0mWKilewBVzWkPzaBdp+Tkbfs+Sj3I+TZhKN2ntG5jVCJT5JCZVX4E9OG25AYOTiC2BO6935OyiCIKfoF47tw8Eouwtld89WIxZtOSmzHkgt4ounGib+U28q4/nJn7bPfsDB5vQh+QafkPPmPDFUasRwkZwah4Q0svRoM1USNTXbX7PZ59LesMHzgAg7F7OaSYgXYOIkL04Am8rohTX3dRjaxECy+BvcwFY4S8J2TZhZ0tB/kLAQTAIAcAfs5W5/l4g2ZKVSqFyLaGDFI+IP5T6IGEUYExYoaL2eqtWDXEiLyNAxfV4Eg5iG/N/ZX79+/fv379+/Gv379+/fv379+/fv379+/fv379+/fv3oNfnXEYgAI1Kdyss+Cizig0gTlKzWDPiVkcAly6vUf0l++f1T/Wf1T/AFnbZ9If4+XEd9ThR9wTLAwb5JufK/ggQAwv4v3SSLF0CGAO5obAEArsoZzP7rNhl7WYy/0KH2QsssMrBQWb6uKUBYRWgCp0IRx+1IyJRKadnQP5ZZpA9zLN4B95DGGrqUnfQYQpctn8AdU/zw3TDnbj4ZptlVwASqppGDa01alE8Xydu/VmvZHlODwahWeWp9bjNgNPmPRV6BtmJR+omxHYmxBN5T26czBe/wBP5rD9eaH6AuMYKHdVrf0MSu+PjBBREIYAaVX2Hl33NyMaz+/NPtS5LRZ0+6DJSvanQ05GE2vIubw1HVMqBg8NoyHkTnJa7/V3a8o1ytYG8h62RBoUB6YLMCiNExqswCqWPjSOEMbHi+EC80/6n6lovmVxVZnBqgoFVU4Miku8gsBVp2whJI8IUfxiYbVM3IAF2wmnFNyGEoXkaL2AZvS+gaO7u90EOai6BYXlg6N4F+F54L9rAOgyBao1JpdkROpTdtnYPj7X5y12cPC0zfy19ZbT9KAQdV4dfP5xru4p8HGyFCPqYOGRKJEfSOCmCjpYRAqLoxMWN6pjheDoAIgjpHCQACAcBiqdFG0406wMHUhiR/Dg4x2IjQhpBAUNUZ/b+OLVWto283GrDyBX7zI9rGsekE+zhdT14A6c6g7BDOFzJ7F2OnHTSAlUONOsAAAA0BiVxSGFeWHfOa+hn1A3y85Mx07TFqEp3lL5MXTiPiAPZNkyPEjQID98ULYtJQ+ZgKOeQ6/GczYI6kqFNG5OcGjd42kYTXTRPpcJ8gay5U7pVXur87+j8+rRlor9xDYmBmXXrfvT1EQTImNSLtauEyZ2ZZ4k5O4YExDXUkkJ52UsjganygQge2vyGApC5ImjOeTDljaQE5BV6mEaCJ+Y6fvh0wdJE0gQQYfIhNsu6TXeODZuiDoFJo+AE5nMAg0JAAphpIBAUIaNcAfPK/Gq1iReF5nO+QNB+Ij9pTNF0QgBcQf+bHdqAd939rfszVJX8Z/VP9dXkN1A15PHUvweCH4OAzpUGS86Nf8AXX//xAAUEQEAAAAAAAAAAAAAAAAAAACQ/9oACAECAQE/AGW//8QAFBEBAAAAAAAAAAAAAAAAAAAAkP/aAAgBAwEBPwBlv//Z)"
   ]
  },
  {
   "cell_type": "code",
   "execution_count": 29,
   "id": "4428cda0",
   "metadata": {},
   "outputs": [
    {
     "name": "stderr",
     "output_type": "stream",
     "text": [
      "                                                                                \r"
     ]
    }
   ],
   "source": [
    "# Создадим простейшую модель, которая покажет через линейные коэффиценты связь переменных и таргета\n",
    "lr = LogisticRegression()\n",
    "tf = HashingTF(inputCol= 'features_array', outputCol= 'features')\n",
    "pipe = Pipeline(stages=[tf, lr])\n",
    "lr_model = pipe.fit(train)"
   ]
  },
  {
   "cell_type": "code",
   "execution_count": 30,
   "id": "f9cb241c",
   "metadata": {},
   "outputs": [
    {
     "name": "stdout",
     "output_type": "stream",
     "text": [
      "root\n",
      " |-- label: integer (nullable = true)\n",
      " |-- features: vector (nullable = true)\n",
      " |-- rawPrediction: vector (nullable = true)\n",
      " |-- probability: vector (nullable = true)\n",
      " |-- prediction: double (nullable = false)\n",
      "\n"
     ]
    },
    {
     "name": "stderr",
     "output_type": "stream",
     "text": [
      "[Stage 249:>                                                        (0 + 1) / 1]\r"
     ]
    },
    {
     "name": "stdout",
     "output_type": "stream",
     "text": [
      "+-----+--------------------+--------------------+--------------------+----------+\n",
      "|label|            features|       rawPrediction|         probability|prediction|\n",
      "+-----+--------------------+--------------------+--------------------+----------+\n",
      "|    0|(262144,[52281,24...|[8.72181143990360...|[0.99983703488823...|       0.0|\n",
      "|    0|(262144,[11726,52...|[42.4606504360674...|           [1.0,0.0]|       0.0|\n",
      "|    0|(262144,[11726,52...|[42.4606504360674...|           [1.0,0.0]|       0.0|\n",
      "|    0|(262144,[11726,52...|[42.4606504360674...|           [1.0,0.0]|       0.0|\n",
      "|    0|(262144,[23536,52...|[42.4605391662358...|           [1.0,0.0]|       0.0|\n",
      "|    0|(262144,[48272,52...|[42.6818145693993...|           [1.0,0.0]|       0.0|\n",
      "|    0|(262144,[48272,52...|[42.5789170024753...|           [1.0,0.0]|       0.0|\n",
      "|    0|(262144,[48272,52...|[42.5789170024753...|           [1.0,0.0]|       0.0|\n",
      "|    0|(262144,[48272,52...|[42.5789170024753...|           [1.0,0.0]|       0.0|\n",
      "|    0|(262144,[48272,52...|[42.5789170024753...|           [1.0,0.0]|       0.0|\n",
      "|    0|(262144,[48272,52...|[42.6818145693993...|           [1.0,0.0]|       0.0|\n",
      "|    0|(262144,[48272,52...|[42.6818145693993...|           [1.0,0.0]|       0.0|\n",
      "|    0|(262144,[48272,52...|[42.6818145693993...|           [1.0,0.0]|       0.0|\n",
      "|    0|(262144,[48272,52...|[42.6818145693993...|           [1.0,0.0]|       0.0|\n",
      "|    0|(262144,[52281,19...|[42.8498251886041...|           [1.0,0.0]|       0.0|\n",
      "|    0|(262144,[52281,19...|[42.8498251886041...|           [1.0,0.0]|       0.0|\n",
      "|    0|(262144,[52281,24...|[42.1050222483221...|           [1.0,0.0]|       0.0|\n",
      "|    0|(262144,[52281,14...|[42.1051528427563...|           [1.0,0.0]|       0.0|\n",
      "|    0|(262144,[52281,14...|[42.1051528427563...|           [1.0,0.0]|       0.0|\n",
      "|    0|(262144,[52281,14...|[42.1051528427563...|           [1.0,0.0]|       0.0|\n",
      "+-----+--------------------+--------------------+--------------------+----------+\n",
      "only showing top 20 rows\n",
      "\n"
     ]
    },
    {
     "name": "stderr",
     "output_type": "stream",
     "text": [
      "                                                                                \r"
     ]
    }
   ],
   "source": [
    "# Make predictions on test documents. cvModel uses the best model found (lrModel).\n",
    "prediction = lr_model.transform(test)\n",
    "selected = prediction.select('label', 'features', 'rawPrediction', 'probability', 'prediction')\n",
    "selected.printSchema()\n",
    "selected.show()"
   ]
  },
  {
   "cell_type": "code",
   "execution_count": 31,
   "id": "937bc8d6",
   "metadata": {},
   "outputs": [
    {
     "name": "stderr",
     "output_type": "stream",
     "text": [
      "[Stage 254:============================>                            (1 + 1) / 2]\r"
     ]
    },
    {
     "name": "stdout",
     "output_type": "stream",
     "text": [
      "0.6462391101393847\n"
     ]
    },
    {
     "name": "stderr",
     "output_type": "stream",
     "text": [
      "                                                                                \r"
     ]
    }
   ],
   "source": [
    "evaluator = BinaryClassificationEvaluator()\n",
    "print(evaluator.evaluate(prediction))"
   ]
  },
  {
   "cell_type": "code",
   "execution_count": 32,
   "id": "68ea9451",
   "metadata": {},
   "outputs": [
    {
     "name": "stderr",
     "output_type": "stream",
     "text": [
      "[Stage 275:============================>                            (1 + 1) / 2]\r"
     ]
    },
    {
     "name": "stdout",
     "output_type": "stream",
     "text": [
      "Accuracy :  0.9837500490638615\n"
     ]
    },
    {
     "name": "stderr",
     "output_type": "stream",
     "text": [
      "                                                                                \r"
     ]
    }
   ],
   "source": [
    "# точность модели\n",
    "accuracy = prediction.filter(prediction.label == prediction.prediction).count() / float(prediction.count())\n",
    "print(\"Accuracy : \", accuracy)"
   ]
  }
 ],
 "metadata": {
  "kernelspec": {
   "display_name": "Python 3 (ipykernel)",
   "language": "python",
   "name": "python3"
  },
  "language_info": {
   "codemirror_mode": {
    "name": "ipython",
    "version": 3
   },
   "file_extension": ".py",
   "mimetype": "text/x-python",
   "name": "python",
   "nbconvert_exporter": "python",
   "pygments_lexer": "ipython3",
   "version": "3.9.6"
  }
 },
 "nbformat": 4,
 "nbformat_minor": 5
}
