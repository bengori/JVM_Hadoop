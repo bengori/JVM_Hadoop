﻿{
  "metadata": {
    "name": "vgsales",
    "kernelspec": {
      "language": "scala",
      "name": "spark2-scala"
    },
    "language_info": {
      "codemirror_mode": "text/x-scala",
      "file_extension": ".scala",
      "mimetype": "text/x-scala",
      "name": "scala",
      "pygments_lexer": "scala"
    }
  },
  "nbformat": 4,
  "nbformat_minor": 2,
  "cells": [
    {
      "cell_type": "code",
      "execution_count": 0,
      "metadata": {
        "autoscroll": "auto"
      },
      "outputs": [],
      "source": "%sh\npython -m pip install kaggle"
    },
    {
      "cell_type": "code",
      "execution_count": 1,
      "metadata": {
        "autoscroll": "auto"
      },
      "outputs": [],
      "source": "%sh\nexport KAGGLE_USERNAME\u003dnatalyahaimova\nexport KAGGLE_KEY\u003d34e46cb7757848d3ab4ea01d5becfcc1\nmkdir -p /home/hduser/vgsales\ncd /home/hduser/vgsales\nkaggle datasets files gregorut/videogamesales\nkaggle datasets download gregorut/videogamesales"
    },
    {
      "cell_type": "code",
      "execution_count": 2,
      "metadata": {
        "autoscroll": "auto"
      },
      "outputs": [],
      "source": "%sh\ncd /home/hduser/vgsales\nunzip videogamesales.zip\nrm videogamesales.zip\nls -la"
    },
    {
      "cell_type": "code",
      "execution_count": 3,
      "metadata": {
        "autoscroll": "auto"
      },
      "outputs": [],
      "source": "%sh\nhdfs dfs -put /home/hduser/vgsales /user/hduser\nhdfs dfs -ls /user/hduser/vgsales"
    },
    {
      "cell_type": "code",
      "execution_count": 4,
      "metadata": {
        "autoscroll": "auto"
      },
      "outputs": [],
      "source": "%hive\nCREATE TABLE vgsales(Rank INT, Name STRING, Platform STRING, YEAR INT, Genre STRING, Publisher STRING, NA_Sales FLOAT, EU_Sales FLOAT, JP_Sales FLOAT, Other_Sales FLOAT, Global_Sales FLOAT)\n    COMMENT \u0027Information on vasales\u0027\n    ROW FORMAT DELIMITED\n    FIELDS TERMINATED BY \u0027,\u0027\n    STORED AS TEXTFILE\n    TBLPROPERTIES(\u0027skip.header.line.count\u0027\u003d\u00271\u0027)\n"
    },
    {
      "cell_type": "code",
      "execution_count": 5,
      "metadata": {
        "autoscroll": "auto"
      },
      "outputs": [],
      "source": "%hive\nSHOW TABLES;"
    },
    {
      "cell_type": "code",
      "execution_count": 6,
      "metadata": {
        "autoscroll": "auto"
      },
      "outputs": [],
      "source": "%hive\nLOAD DATA INPATH \u0027/user/hduser/vgsales/vgsales.csv\u0027 INTO TABLE vgsales;"
    },
    {
      "cell_type": "code",
      "execution_count": 7,
      "metadata": {
        "autoscroll": "auto"
      },
      "outputs": [],
      "source": "%sh\necho \"%table\"\nhdfs dfs -cat /user/hive/warehouse/vgsales/vgsales.csv | tr \u0027,\u0027 \u0027\\t\u0027"
    },
    {
      "cell_type": "code",
      "execution_count": 8,
      "metadata": {
        "autoscroll": "auto"
      },
      "outputs": [],
      "source": "%hive\nSELECT count(*) FROM vgsales;"
    },
    {
      "cell_type": "code",
      "execution_count": 9,
      "metadata": {
        "autoscroll": "auto"
      },
      "outputs": [],
      "source": "%hive\n// самая продаваемая игра за все время\nSELECT rank, name, global_sales FROM vgsales ORDER BY global_sales DESC LIMIT 1;"
    },
    {
      "cell_type": "code",
      "execution_count": 10,
      "metadata": {
        "autoscroll": "auto"
      },
      "outputs": [],
      "source": "%sh\nhdfs dfs -ls /user/hduser/vgsales"
    },
    {
      "cell_type": "code",
      "execution_count": 11,
      "metadata": {
        "autoscroll": "auto"
      },
      "outputs": [],
      "source": "%sh\nhdfs dfs -put /home/hduser/vgsales/vgsales.csv /user/hduser/vgsales\nhdfs dfs -ls /user/hduser/vgsales"
    },
    {
      "cell_type": "code",
      "execution_count": 12,
      "metadata": {
        "autoscroll": "auto"
      },
      "outputs": [],
      "source": "%spark\nval df\u003dsqlContext\n    .read\n    .format(\"csv\")\n    .option(\"header\", \"true\")\n    .option(\"inferSchema\", \"true\")\n    .load(\"/user/hduser/vgsales/vgsales.csv\")\n    \ndf.printSchema()\ndf.show(5)"
    },
    {
      "cell_type": "code",
      "execution_count": 13,
      "metadata": {
        "autoscroll": "auto"
      },
      "outputs": [],
      "source": "%spark\ndf.createOrReplaceTempView(\"vgsales_tmp\")"
    },
    {
      "cell_type": "code",
      "execution_count": 14,
      "metadata": {
        "autoscroll": "auto"
      },
      "outputs": [],
      "source": "%spark\n"
    },
    {
      "cell_type": "code",
      "execution_count": 15,
      "metadata": {
        "autoscroll": "auto"
      },
      "outputs": [],
      "source": "%spark\n// самая популярная платформе в регионе NA\n\nval sqlDF1 \u003d spark.sql(\"SELECT Platform, sum(NA_Sales) as NA_Sales FROM vgsales_tmp GROUP BY Platform ORDER BY NA_Sales DESC LIMIT 1\")\n\nsqlDF1.show()"
    },
    {
      "cell_type": "code",
      "execution_count": 16,
      "metadata": {
        "autoscroll": "auto"
      },
      "outputs": [],
      "source": "%spark\n// самая популярная платформе в регионе EU\n\nval sqlDF2 \u003d spark.sql(\"SELECT Platform, sum(EU_Sales) as EU_Sales FROM vgsales_tmp GROUP BY Platform ORDER BY EU_Sales DESC LIMIT 1\")\n\nsqlDF2.show()"
    },
    {
      "cell_type": "code",
      "execution_count": 17,
      "metadata": {
        "autoscroll": "auto"
      },
      "outputs": [],
      "source": "%spark\n// самая популярная платформе в регионе JP\n\nval sqlDF3 \u003d spark.sql(\"SELECT Platform, sum(JP_Sales) as JP_Sales FROM vgsales_tmp GROUP BY Platform ORDER BY JP_Sales DESC LIMIT 1\")\n\nsqlDF3.show()"
    },
    {
      "cell_type": "code",
      "execution_count": 18,
      "metadata": {
        "autoscroll": "auto"
      },
      "outputs": [],
      "source": "%spark\n// самый популярный жанр в регионе NA\n\nval sqlDF4 \u003d spark.sql(\"SELECT Genre, sum(NA_Sales) as NA_Sales FROM vgsales_tmp GROUP BY Genre ORDER BY NA_Sales DESC LIMIT 1\")\n\nsqlDF4.show()"
    },
    {
      "cell_type": "code",
      "execution_count": 19,
      "metadata": {
        "autoscroll": "auto"
      },
      "outputs": [],
      "source": "%spark\n// самый популярный жанр в регионе EU\n\nval sqlDF5 \u003d spark.sql(\"SELECT Genre, sum(EU_Sales) as EU_Sales FROM vgsales_tmp GROUP BY Genre ORDER BY EU_Sales DESC LIMIT 1\")\n\nsqlDF5.show()"
    },
    {
      "cell_type": "code",
      "execution_count": 20,
      "metadata": {
        "autoscroll": "auto"
      },
      "outputs": [],
      "source": "%spark\n// самый популярный жанр в регионе JP\n\nval sqlDF6 \u003d spark.sql(\"SELECT Genre, sum(JP_Sales) as JP_Sales FROM vgsales_tmp GROUP BY Genre ORDER BY JP_Sales DESC LIMIT 1\")\n\nsqlDF6.show()"
    },
    {
      "cell_type": "code",
      "execution_count": 21,
      "metadata": {
        "autoscroll": "auto"
      },
      "outputs": [],
      "source": "%spark\n// годы\n\nval years \u003d spark.sql(\"SELECT Year FROM vgsales_tmp WHERE Year !\u003d 0 GROUP BY Year ORDER BY Year\")\n\nyears.show(40)"
    },
    {
      "cell_type": "markdown",
      "metadata": {},
      "source": "year_user \u003d `${Year\u003d2018}`"
    },
    {
      "cell_type": "code",
      "execution_count": 23,
      "metadata": {
        "autoscroll": "auto"
      },
      "outputs": [],
      "source": "%spark.sql\n// самый популярный жанр в конркретный год\n\nSELECT Year, Genre, sum(Global_Sales) as Global_Sales FROM vgsales_tmp WHERE Year \u003d\u003d \u00271986\u0027 GROUP BY Year, Genre ORDER BY Global_Sales DESC LIMIT 1"
    }
  ]
}