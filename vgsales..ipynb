﻿{
  "metadata": {
    "name": "vgsales",
    "kernelspec": {
      "language": "scala",
      "name": "spark2-scala"
    },
    "language_info": {
      "codemirror_mode": "text/x-scala",
      "file_extension": ".scala",
      "mimetype": "text/x-scala",
      "name": "scala",
      "pygments_lexer": "scala"
    }
  },
  "nbformat": 4,
  "nbformat_minor": 2,
  "cells": [
    {
      "cell_type": "code",
      "execution_count": 0,
      "metadata": {
        "autoscroll": "auto"
      },
      "outputs": [],
      "source": "%sh\npython -m pip install kaggle"
    },
    {
      "cell_type": "code",
      "execution_count": 1,
      "metadata": {
        "autoscroll": "auto"
      },
      "outputs": [],
      "source": "%sh\nexport KAGGLE_USERNAME\u003dnatalyahaimova\nexport KAGGLE_KEY\u003d34e46cb7757848d3ab4ea01d5becfcc1\nmkdir -p /home/hduser/vgsales\ncd /home/hduser/vgsales\nkaggle datasets files gregorut/videogamesales\nkaggle datasets download gregorut/videogamesales"
    },
    {
      "cell_type": "code",
      "execution_count": 2,
      "metadata": {
        "autoscroll": "auto"
      },
      "outputs": [],
      "source": "%sh\ncd /home/hduser/vgsales\nunzip videogamesales.zip\nrm videogamesales.zip\nls -la"
    },
    {
      "cell_type": "code",
      "execution_count": 3,
      "metadata": {
        "autoscroll": "auto"
      },
      "outputs": [],
      "source": "%sh\nhdfs dfs -put /home/hduser/vgsales /user/hduser\nhdfs dfs -ls /user/hduser/vgsales"
    },
    {
      "cell_type": "code",
      "execution_count": 4,
      "metadata": {
        "autoscroll": "auto"
      },
      "outputs": [],
      "source": "%sh\necho \"%table\"\nhdfs dfs -cat /user/hduser/vgsales/vgsales.csv | tr \u0027,\u0027 \u0027\\t\u0027"
    },
    {
      "cell_type": "code",
      "execution_count": 5,
      "metadata": {
        "autoscroll": "auto"
      },
      "outputs": [],
      "source": "%hive\nSHOW TABLES;"
    },
    {
      "cell_type": "code",
      "execution_count": 6,
      "metadata": {
        "autoscroll": "auto"
      },
      "outputs": [],
      "source": "%hive\nCREATE TABLE vgsales(Rank INT, Name STRING, Platform STRING, YEAR INT, Genre STRING, Publisher STRING, NA_Sales FLOAT, EU_Sales FLOAT, JP_Sales FLOAT, Other_Sales FLOAT, Global_Sales FLOAT)\n    COMMENT \u0027Information on vasales\u0027\n    ROW FORMAT DELIMITED\n    FIELDS TERMINATED BY \u0027,\u0027\n    STORED AS TEXTFILE\n    TBLPROPERTIES(\u0027skip.header.line.count\u0027\u003d\u00271\u0027)\n"
    },
    {
      "cell_type": "code",
      "execution_count": 7,
      "metadata": {
        "autoscroll": "auto"
      },
      "outputs": [],
      "source": "%hive\nSHOW TABLES;"
    },
    {
      "cell_type": "raw",
      "metadata": {
        "format": "text/plain"
      },
      "source": "%hive\n"
    }
  ]
}